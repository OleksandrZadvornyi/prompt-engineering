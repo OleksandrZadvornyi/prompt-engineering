{
 "cells": [
  {
   "cell_type": "code",
   "execution_count": 1,
   "id": "968c45dd",
   "metadata": {},
   "outputs": [],
   "source": [
    "from langchain.chat_models import init_chat_model\n",
    "from langchain_core.prompts import ChatPromptTemplate\n",
    "import os"
   ]
  },
  {
   "cell_type": "code",
   "execution_count": 2,
   "id": "e7892763",
   "metadata": {},
   "outputs": [],
   "source": [
    "# Initialize the Gemini model\n",
    "model = init_chat_model(\"gemini-2.5-flash\", model_provider=\"google_genai\")"
   ]
  },
  {
   "cell_type": "code",
   "execution_count": 3,
   "id": "904ea7e1",
   "metadata": {},
   "outputs": [
    {
     "name": "stdout",
     "output_type": "stream",
     "text": [
      "=== Simple Prompt Approach ===\n",
      "Here are a few catchy marketing taglines for your smart home thermostat, playing on different angles:\n",
      "\n",
      "**Short & Punchy:**\n",
      "\n",
      "*   Learn. Save. Live Comfortably.\n",
      "*   Smart Comfort, Smarter Savings.\n",
      "*   Your Schedule, Your Savings. Automatically.\n",
      "*   Effortless Energy, Perfect Comfort.\n",
      "*   It learns. You save.\n",
      "\n",
      "**Benefit-Focused:**\n",
      "\n",
      "*   Intelligent Comfort, Automatic Savings.\n",
      "*   The Thermostat That Learns to Save You Money.\n",
      "*   Personalized Comfort, Powerful Savings.\n",
      "*   Set It & Save – Without Lifting a Finger.\n",
      "*   Your Home, On Your Schedule, For Less.\n",
      "\n",
      "**Emphasizing \"Learning\":**\n",
      "\n",
      "*   The Thermostat That Gets You (and Your Bills).\n",
      "*   Learning Your Life, Lowering Your Bills.\n",
      "\n",
      "**Choose the one that best fits your brand's voice and target audience!**\n"
     ]
    }
   ],
   "source": [
    "# Example 1: Simple instruction without examples\n",
    "simple_prompt = ChatPromptTemplate.from_messages([\n",
    "    (\"system\", \"Convert the following product description into a catchy marketing tagline.\"),\n",
    "    (\"user\", \"{product_description}\")\n",
    "])\n",
    "\n",
    "product = \"Smart home thermostat that learns your schedule and saves energy\"\n",
    "\n",
    "print(\"=== Simple Prompt Approach ===\")\n",
    "simple_result = model.invoke(simple_prompt.invoke({\"product_description\": product}))\n",
    "print(simple_result.content)"
   ]
  },
  {
   "cell_type": "code",
   "execution_count": 4,
   "id": "0ec12a91",
   "metadata": {},
   "outputs": [
    {
     "name": "stdout",
     "output_type": "stream",
     "text": [
      "\n",
      "=== Few-Shot Prompt Approach ===\n",
      "Smart Comfort, Smarter Savings!\n"
     ]
    }
   ],
   "source": [
    "# Example 2: Few-shot learning with examples (better prompt engineering)\n",
    "few_shot_prompt = ChatPromptTemplate.from_messages([\n",
    "    (\"system\", \"Convert product descriptions into catchy marketing taglines. Here are some examples:\"),\n",
    "    (\"user\", \"Comfortable running shoes with advanced cushioning technology\"),\n",
    "    (\"assistant\", \"Step Into Comfort, Run Into Tomorrow!\"),\n",
    "    (\"user\", \"Organic coffee beans sourced from small farms\"),\n",
    "    (\"assistant\", \"From Farm to Cup, Pure Perfection!\"),\n",
    "    (\"user\", \"Waterproof bluetooth speaker with 12-hour battery\"),\n",
    "    (\"assistant\", \"Music That Goes Anywhere, Plays All Day!\"),\n",
    "    (\"user\", \"Now create a tagline for this product: {product_description}\")\n",
    "])\n",
    "\n",
    "print(\"\\n=== Few-Shot Prompt Approach ===\")\n",
    "few_shot_result = model.invoke(few_shot_prompt.invoke({\"product_description\": product}))\n",
    "print(few_shot_result.content)"
   ]
  },
  {
   "cell_type": "code",
   "execution_count": 5,
   "id": "1c2a5dc1",
   "metadata": {},
   "outputs": [
    {
     "name": "stdout",
     "output_type": "stream",
     "text": [
      "\n",
      "=== Constrained Prompt Approach ===\n",
      "**Schedule Smart, Save Seriously.**\n"
     ]
    }
   ],
   "source": [
    "# Example 3: Adding constraints and format specifications\n",
    "constrained_prompt = ChatPromptTemplate.from_messages([\n",
    "    (\"system\", \"\"\"Create a marketing tagline following these rules:\n",
    "    - Maximum 6 words\n",
    "    - Include an action verb\n",
    "    - Appeal to emotions\n",
    "    - Use alliteration if possible\n",
    "    \n",
    "    Examples:\n",
    "    Product: Running shoes → \"Run. Relax. Repeat.\"\n",
    "    Product: Coffee → \"Brew Bold, Live Bright!\"\n",
    "    \"\"\"),\n",
    "    (\"user\", \"Product: {product_description}\")\n",
    "])\n",
    "\n",
    "print(\"\\n=== Constrained Prompt Approach ===\")\n",
    "constrained_result = model.invoke(constrained_prompt.invoke({\"product_description\": product}))\n",
    "print(constrained_result.content)"
   ]
  }
 ],
 "metadata": {
  "kernelspec": {
   "display_name": "test",
   "language": "python",
   "name": "python3"
  },
  "language_info": {
   "codemirror_mode": {
    "name": "ipython",
    "version": 3
   },
   "file_extension": ".py",
   "mimetype": "text/x-python",
   "name": "python",
   "nbconvert_exporter": "python",
   "pygments_lexer": "ipython3",
   "version": "3.11.13"
  }
 },
 "nbformat": 4,
 "nbformat_minor": 5
}
